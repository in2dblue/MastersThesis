{
 "cells": [
  {
   "cell_type": "code",
   "execution_count": 1,
   "id": "331d8c5c",
   "metadata": {},
   "outputs": [
    {
     "name": "stderr",
     "output_type": "stream",
     "text": [
      "/home/student/ankit/venv/lib/python3.6/site-packages/pandas/compat/__init__.py:120: UserWarning: Could not import the lzma module. Your installed Python is incomplete. Attempting to use lzma compression will result in a RuntimeError.\n",
      "  warnings.warn(msg)\n"
     ]
    }
   ],
   "source": [
    "import pandas     as pd\n",
    "import numpy      as np\n",
    "#import matplotlib.pyplot as plt\n",
    "from matplotlib import pyplot, pylab"
   ]
  },
  {
   "cell_type": "code",
   "execution_count": 2,
   "id": "fd65b114",
   "metadata": {},
   "outputs": [
    {
     "data": {
      "text/html": [
       "<div>\n",
       "<style scoped>\n",
       "    .dataframe tbody tr th:only-of-type {\n",
       "        vertical-align: middle;\n",
       "    }\n",
       "\n",
       "    .dataframe tbody tr th {\n",
       "        vertical-align: top;\n",
       "    }\n",
       "\n",
       "    .dataframe thead th {\n",
       "        text-align: right;\n",
       "    }\n",
       "</style>\n",
       "<table border=\"1\" class=\"dataframe\">\n",
       "  <thead>\n",
       "    <tr style=\"text-align: right;\">\n",
       "      <th></th>\n",
       "      <th>Epoch</th>\n",
       "      <th>TrainCost</th>\n",
       "      <th>DevCost</th>\n",
       "    </tr>\n",
       "  </thead>\n",
       "  <tbody>\n",
       "    <tr>\n",
       "      <th>0</th>\n",
       "      <td>0</td>\n",
       "      <td>1.851625</td>\n",
       "      <td>1.531390</td>\n",
       "    </tr>\n",
       "    <tr>\n",
       "      <th>1</th>\n",
       "      <td>1</td>\n",
       "      <td>1.499996</td>\n",
       "      <td>1.480504</td>\n",
       "    </tr>\n",
       "    <tr>\n",
       "      <th>2</th>\n",
       "      <td>2</td>\n",
       "      <td>1.451022</td>\n",
       "      <td>1.468154</td>\n",
       "    </tr>\n",
       "    <tr>\n",
       "      <th>3</th>\n",
       "      <td>3</td>\n",
       "      <td>1.435417</td>\n",
       "      <td>1.462951</td>\n",
       "    </tr>\n",
       "    <tr>\n",
       "      <th>4</th>\n",
       "      <td>4</td>\n",
       "      <td>1.421113</td>\n",
       "      <td>1.477091</td>\n",
       "    </tr>\n",
       "  </tbody>\n",
       "</table>\n",
       "</div>"
      ],
      "text/plain": [
       "   Epoch  TrainCost   DevCost\n",
       "0      0   1.851625  1.531390\n",
       "1      1   1.499996  1.480504\n",
       "2      2   1.451022  1.468154\n",
       "3      3   1.435417  1.462951\n",
       "4      4   1.421113  1.477091"
      ]
     },
     "execution_count": 2,
     "metadata": {},
     "output_type": "execute_result"
    }
   ],
   "source": [
    "data1 = pd.read_csv('cost_with_features.csv')\n",
    "data2 = pd.read_csv('cost_wo_features.csv')\n",
    "data3 = pd.read_csv('cost_with_some_features.csv')\n",
    "data = data3\n",
    "data.head()"
   ]
  },
  {
   "cell_type": "code",
   "execution_count": 3,
   "id": "f9143157",
   "metadata": {},
   "outputs": [
    {
     "data": {
      "image/png": "[encoded data removed]",
      "text/plain": [
       "<Figure size 720x360 with 1 Axes>"
      ]
     },
     "metadata": {
      "needs_background": "light"
     },
     "output_type": "display_data"
    }
   ],
   "source": [
    "pyplot.figure(figsize=(10,5))\n",
    "pyplot.plot(data['Epoch'], data['TrainCost'], label='sample')\n",
    "pyplot.plot(data['Epoch'], data['DevCost'], label='sample')\n",
    "pylab.xlabel('Epoch')\n",
    "pylab.ylabel('Avg. Cost')\n",
    "pyplot.title('Train and Dev cost for training with some Features')\n",
    "#pyplot.title('Train and Dev cost for training without Features')\n",
    "L=pyplot.legend()\n",
    "\n",
    "L.get_texts()[0].set_text('Train')\n",
    "L.get_texts()[1].set_text('Dev')\n",
    "\n",
    "pyplot.savefig('TrainDevCostWithSomeFeatures.jpg')"
   ]
  },
  {
   "cell_type": "code",
   "execution_count": null,
   "id": "d22fdd25",
   "metadata": {},
   "outputs": [],
   "source": []
  }
 ],
 "metadata": {
  "kernelspec": {
   "display_name": "Python 3",
   "language": "python",
   "name": "python3"
  },
  "language_info": {
   "codemirror_mode": {
    "name": "ipython",
    "version": 3
   },
   "file_extension": ".py",
   "mimetype": "text/x-python",
   "name": "python",
   "nbconvert_exporter": "python",
   "pygments_lexer": "ipython3",
   "version": "3.6.9"
  }
 },
 "nbformat": 4,
 "nbformat_minor": 5
}
